{
 "cells": [
  {
   "cell_type": "markdown",
   "metadata": {},
   "source": [
    "# Step1: Observing your Data\n",
    "1.\n",
    "You’ve to load data about one-bedroom apartments in three of New York City’s boroughs: (See the data folder to view the data files names)\n",
    "- Brooklyn, \n",
    "- Manhattan, and \n",
    "- Queens. \n",
    "\n",
    "And save the values to:\n",
    "\n",
    "- brooklyn_one_bed\n",
    "- manhattan_one_bed\n",
    "- queens_one_bed"
   ]
  },
  {
   "cell_type": "code",
   "execution_count": 29,
   "metadata": {},
   "outputs": [],
   "source": [
    "import numpy as np\n",
    "import pandas as pd\n",
    "from scipy import stats\n",
    "# load data files here\n",
    "df1  = pd.read_csv('brooklyn-one-bed.csv')\n",
    "df2 = pd.read_csv('manhattan-one-bed.csv')\n",
    "df3 = pd.read_csv('queens-one-bed.csv')\n",
    "\n",
    "df1 = df1[df1['floor']==1]\n",
    "df2 = df2[df2['floor']==1]\n",
    "df3 = df3[df3['floor']==1]\n",
    "df1.to_csv('brooklyn-one-bed-flat.csv')\n",
    "df2.to_csv('manhattan-one-bed-flat.csv')\n",
    "df3.to_csv('queens-one-bed-flat.csv')\n",
    "\n"
   ]
  },
  {
   "cell_type": "markdown",
   "metadata": {},
   "source": [
    "In this project, we only care about the price of apartments, so load and save the price of apartments in each borough to:\n",
    "\n",
    "- brooklyn_price\n",
    "- manhattan_price\n",
    "- queens_price\n",
    "\n",
    "If you want to see what these arrays look like, you can use print statements to see them in the output terminal."
   ]
  },
  {
   "cell_type": "code",
   "execution_count": 30,
   "metadata": {},
   "outputs": [],
   "source": [
    "#load prices here\n",
    "\n",
    "df1_price = pd.read_csv('brooklyn-one-bed-flat.csv')\n",
    "df2_price = pd.read_csv('manhattan-one-bed-flat.csv')\n",
    "df3_price = pd.read_csv('queens-one-bed-flat.csv')\n",
    "df1_price = df1_price['rent']\n",
    "df2_price = df2_price['rent']\n",
    "df3_price = df3_price['rent']\n",
    "df1_price.to_csv('brooklyn_rice.csv')\n",
    "df2_price.to_csv('manhattan_price.csv')\n",
    "df3_price.to_csv('queens_price.csv')\n",
    "\n"
   ]
  },
  {
   "cell_type": "markdown",
   "metadata": {},
   "source": [
    "# Step2: Finding the mean"
   ]
  },
  {
   "cell_type": "markdown",
   "metadata": {},
   "source": [
    "Find the average values of one-bedroom apartments in \n",
    "\n",
    "- Brooklyn\n",
    "- Manhattan\n",
    "- Queens\n",
    "\n",
    "and save the value to:\n",
    "\n",
    "- brooklyn_mean \n",
    "- manhattan_mean\n",
    "- queens_mean"
   ]
  },
  {
   "cell_type": "code",
   "execution_count": 31,
   "metadata": {},
   "outputs": [
    {
     "name": "stdout",
     "output_type": "stream",
     "text": [
      "3000.3333333333335\n",
      "2891.5510204081634\n",
      "2102.0\n"
     ]
    }
   ],
   "source": [
    "# Add mean calculations below\n",
    "df1_price = pd.read_csv('brooklyn-one-bed-flat.csv')\n",
    "df2_price = pd.read_csv('manhattan-one-bed-flat.csv')\n",
    "df3_price = pd.read_csv('queens-one-bed-flat.csv')\n",
    "df1_price = df1_price['rent']\n",
    "df2_price = df2_price['rent']\n",
    "df3_price = df3_price['rent']\n",
    "df1_mean = df1_price.mean()\n",
    "df2_mean = df2_price.mean()\n",
    "df3_mean = df3_price.mean()\n",
    "print(df1_mean)\n",
    "print(df2_mean)\n",
    "print(df3_mean)\n",
    "df1.to_csv('brooklyn_mean.csv')\n",
    "df2.to_csv('manhattan_mean.csv')\n",
    "df3.to_csv('queens_mean.csv')"
   ]
  },
  {
   "cell_type": "markdown",
   "metadata": {},
   "source": [
    "# Step3: Find the Median"
   ]
  },
  {
   "cell_type": "markdown",
   "metadata": {},
   "source": [
    "Find the median values of one-bedroom apartments in\n",
    "\n",
    "- Brooklyn\n",
    "- Manhattan\n",
    "- Queens\n",
    "\n",
    "and save the value to:\n",
    "\n",
    "- brooklyn_median\n",
    "- manhattan_median\n",
    "- queens_median"
   ]
  },
  {
   "cell_type": "code",
   "execution_count": 32,
   "metadata": {},
   "outputs": [
    {
     "name": "stderr",
     "output_type": "stream",
     "text": [
      "/tmp/ipykernel_6326/2930242824.py:6: FutureWarning: The default value of numeric_only in DataFrame.median is deprecated. In a future version, it will default to False. In addition, specifying 'numeric_only=None' is deprecated. Select only valid columns or specify the value of numeric_only to silence this warning.\n",
      "  df_median =  df.median()\n",
      "/tmp/ipykernel_6326/2930242824.py:7: FutureWarning: The default value of numeric_only in DataFrame.median is deprecated. In a future version, it will default to False. In addition, specifying 'numeric_only=None' is deprecated. Select only valid columns or specify the value of numeric_only to silence this warning.\n",
      "  df2_median = df2.median()\n",
      "/tmp/ipykernel_6326/2930242824.py:8: FutureWarning: The default value of numeric_only in DataFrame.median is deprecated. In a future version, it will default to False. In addition, specifying 'numeric_only=None' is deprecated. Select only valid columns or specify the value of numeric_only to silence this warning.\n",
      "  df3_median = df3.median()\n"
     ]
    }
   ],
   "source": [
    "# Add median calculations below\n",
    "df = pd.read_csv('brooklyn-one-bed-flat.csv')\n",
    "df2 = pd.read_csv('manhattan-one-bed-flat.csv')\n",
    "df3 = pd.read_csv('queens-one-bed-flat.csv')\n",
    "\n",
    "\n",
    "df_median =  df.median()\n",
    "df2_median = df2.median()\n",
    "df3_median = df3.median()\n",
    "\n",
    "df_median.to_csv('brooklyn_median.csv')\n",
    "df2_median.to_csv('manhattan_median.csv')\n",
    "df3_median.to_csv('queens_median.csv')\n"
   ]
  },
  {
   "cell_type": "markdown",
   "metadata": {},
   "source": [
    "# Step4: Find the mode\n",
    "    "
   ]
  },
  {
   "cell_type": "markdown",
   "metadata": {},
   "source": [
    "Find the mode values of one-bedroom apartments in\n",
    "\n",
    "- Brooklyn\n",
    "- Manhattan\n",
    "- Queens\n",
    "\n",
    "and save the value to:\n",
    "\n",
    "- brooklyn_mode\n",
    "- manhattan_mode\n",
    "- queens_mode"
   ]
  },
  {
   "cell_type": "code",
   "execution_count": 50,
   "metadata": {},
   "outputs": [],
   "source": [
    "# Add mode calculations below\n",
    "\n",
    "df1 = pd.read_csv('brooklyn-one-bed-flat.csv')\n",
    "df2 = pd.read_csv('manhattan-one-bed-flat.csv')\n",
    "df3 = pd.read_csv('queens-one-bed-flat.csv')\n",
    "# find mode of rent with respect to floor\n",
    "df1_price = df1['rent']\n",
    "\n",
    "df2_price = df2['rent']\n",
    "df3_price = df3['rent']\n",
    "\n",
    "\n",
    "df1_mode = df1_price.mode()\n",
    "df2_mode = df2_price.mode()\n",
    "df3_mode = df3_price.mode()\n",
    "\n",
    "\n",
    "\n",
    "\n",
    "df1_mode.to_csv('brooklyn_mode.csv')\n",
    "df2_mode.to_csv('manhattan_mode.csv')\n",
    "df3_mode.to_csv('queens_mode.csv')\n",
    "\n"
   ]
  },
  {
   "cell_type": "code",
   "execution_count": 56,
   "metadata": {},
   "outputs": [
    {
     "name": "stdout",
     "output_type": "stream",
     "text": [
      "The mean price in Brooklyn is 3000.33\n",
      "The mean price in Manhattan is 2891.55\n",
      "The mean price in Queens is 2102.0\n",
      "The median price in Brooklyn is Unnamed: 0           535.0\n",
      "rental_id           6605.0\n",
      "rent                2850.0\n",
      "bedrooms               2.0\n",
      "bathrooms              1.0\n",
      "size_sqft            900.0\n",
      "min_to_subway          5.0\n",
      "floor                  1.0\n",
      "building_age_yrs      86.0\n",
      "no_fee                 0.0\n",
      "has_roofdeck           0.0\n",
      "has_washer_dryer       0.0\n",
      "has_doorman            0.0\n",
      "has_elevator           0.0\n",
      "has_dishwasher         0.0\n",
      "has_patio              0.0\n",
      "has_gym                0.0\n",
      "dtype: float64\n",
      "The median price in Manhattan is Unnamed: 0.1             731.0\n",
      "Unnamed: 0              2484.0\n",
      "rental_id               5908.0\n",
      "building_id         54642186.0\n",
      "rent                    2700.0\n",
      "bedrooms                   1.0\n",
      "bathrooms                  1.0\n",
      "size_sqft                650.0\n",
      "min_to_subway              4.0\n",
      "floor                      1.0\n",
      "building_age_yrs          92.0\n",
      "no_fee                     0.0\n",
      "has_roofdeck               0.0\n",
      "has_washer_dryer           0.0\n",
      "has_doorman                0.0\n",
      "has_elevator               0.0\n",
      "has_dishwasher             0.0\n",
      "has_patio                  0.0\n",
      "has_gym                    0.0\n",
      "dtype: float64\n",
      "The median price in Queens is Unnamed: 0.1             104.5\n",
      "Unnamed: 0              2165.0\n",
      "rental_id               7534.0\n",
      "building_id         72697776.5\n",
      "rent                    1972.5\n",
      "bedrooms                   1.0\n",
      "bathrooms                  1.0\n",
      "size_sqft                750.0\n",
      "min_to_subway              5.0\n",
      "floor                      1.0\n",
      "building_age_yrs          58.5\n",
      "no_fee                     0.0\n",
      "has_roofdeck               0.0\n",
      "has_washer_dryer           0.0\n",
      "has_doorman                0.0\n",
      "has_elevator               0.0\n",
      "has_dishwasher             0.0\n",
      "has_patio                  0.0\n",
      "has_gym                    0.0\n",
      "dtype: float64\n",
      "The mode price in Brooklyn is 2300 and it appears 1 times out of 129\n",
      "The mode price in Queens is 1650 and it appears 1 times out of 20\n"
     ]
    }
   ],
   "source": [
    "# Don't look below here\n",
    "\n",
    "# Mean\n",
    "try:\n",
    "    print(\"The mean price in Brooklyn is \" + str(round(df1_mean,2)))\n",
    "except NameError:\n",
    "    print(\"The mean price in Brooklyn is not yet defined.\")\n",
    "try:\n",
    "    print(\"The mean price in Manhattan is \" + str(round(df2_mean,2)))\n",
    "except NameError:\n",
    "    print(\"The mean price in Manhattan is not yet defined.\")\n",
    "try:\n",
    "    print(\"The mean price in Queens is \" + str(round(df3_mean,2)))\n",
    "except NameError:\n",
    "    print(\"The mean price in Queens is not yet defined.\")\n",
    "  \n",
    "# Median\n",
    "try:\n",
    "    print(\"The median price in Brooklyn is \" + str(df_median))\n",
    "except NameError:\n",
    "    print(\"The median price in Brooklyn is not yet defined.\")\n",
    "try:\n",
    "    print(\"The median price in Manhattan is \" + str(df2_median))\n",
    "except NameError:\n",
    "    print(\"The median price in Manhattan is not yet defined.\")\n",
    "try:\n",
    "    print(\"The median price in Queens is \" + str(df3_median))\n",
    "except NameError:\n",
    "    print(\"The median price in Queens is not yet defined.\")\n",
    "    \n",
    "    \n",
    "# Mode\n",
    "try:\n",
    "    print(\"The mode price in Brooklyn is \" + str(df1_mode[0]) + \" and it appears \" + str(df1_mode.count()) + \" times out of \" + str(len(df1_price)))\n",
    "except NameError:\n",
    "    print(\"The mode price in Brooklyn is not yet defined.\")\n",
    "# try:\n",
    "    print(\"The mode price in Manhattan is \" + str(df2_mode[0]) + \" and it appears \" + str(df2_mode.count()) + \" times out of \" + str(len(df2_price)))\n",
    "except NameError:\n",
    "    print(\"The mode price in Manhattan is not yet defined.\")\n",
    "try:\n",
    "    print(\"The mode price in Queens is \" + str(df3_mode[0]) + \" and it appears \" + str(df3_mode.count()) + \" times out of \" + str(len(df3_price)))\n",
    "except NameError:\n",
    "    print(\"The mode price in Queens is not yet defined.\")\n",
    "\n",
    "\n"
   ]
  },
  {
   "cell_type": "code",
   "execution_count": null,
   "metadata": {},
   "outputs": [],
   "source": []
  }
 ],
 "metadata": {
  "kernelspec": {
   "display_name": "Python 3",
   "language": "python",
   "name": "python3"
  },
  "language_info": {
   "codemirror_mode": {
    "name": "ipython",
    "version": 3
   },
   "file_extension": ".py",
   "mimetype": "text/x-python",
   "name": "python",
   "nbconvert_exporter": "python",
   "pygments_lexer": "ipython3",
   "version": "3.10.6"
  }
 },
 "nbformat": 4,
 "nbformat_minor": 2
}
